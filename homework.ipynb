{
 "cells": [
  {
   "cell_type": "markdown",
   "id": "a5a1f71f",
   "metadata": {},
   "source": [
    "# Инструкция\n",
    "\n",
    "Соберите случайный ансамбль из нескольких методов выделения факторов - корреляции, взаимной информации, важности признаков, главных компонент, независимых компонент и др. Получите не менее 3 наборов из 5 наиболее важных признаков.\n",
    "\n",
    "Соберите для каждого набора ансамбль стекинга для задачи, используя (но не ограничиваясь) решающими деревьями, CatBoost, линейной регрессией - всего не менее 3 ансамблей стекинга, каждый из которых состоит из большого числа разнородных моделей.\n",
    "\n",
    "Используя эти ансамбли, предскажите продолжительность жизни на 2019 год.\n",
    "\n",
    "\\* Дополнительно: найдите значения факторов Росстата за 2019 год и предскажите продолжительность жизни на 2020 год.\n",
    "\n",
    "Данные:\n",
    "video.ittensive.com/machine-learning/sc-tatar2020/rosstat/rosstat.csv\n",
    "\n",
    "Итоговый файл с кодом (.py или .ipynb) выложите в github с портфолио."
   ]
  },
  {
   "cell_type": "code",
   "execution_count": 1,
   "id": "88f8ecc2",
   "metadata": {},
   "outputs": [
    {
     "data": {
      "text/plain": [
       "474"
      ]
     },
     "execution_count": 1,
     "metadata": {},
     "output_type": "execute_result"
    }
   ],
   "source": [
    "import pandas as pd\n",
    "import numpy as np\n",
    "from sklearn.preprocessing import MinMaxScaler\n",
    "from sklearn.linear_model import LinearRegression, Ridge, Lasso\n",
    "from sklearn.ensemble import ExtraTreesRegressor, RandomForestRegressor\n",
    "from sklearn.feature_selection import mutual_info_regression\n",
    "from sklearn.decomposition import PCA, FastICA\n",
    "from catboost import CatBoostRegressor\n",
    "from xgboost import XGBRegressor\n",
    "import warnings\n",
    "warnings.simplefilter('ignore')\n",
    "\n",
    "\n",
    "def linear_extrapolation(x):\n",
    "    X = np.array(x.dropna().index.astype(int)).reshape(-1, 1)\n",
    "    Y = np.array(x.dropna().values).reshape(-1, 1)\n",
    "    if X.shape[0] > 0:\n",
    "        f = LinearRegression().fit(X, Y)\n",
    "        for i in x.index:\n",
    "            v = x.loc[i]\n",
    "            if v != v:\n",
    "                v = f.predict([[int(i)]])[0][0]\n",
    "                if v < 0:\n",
    "                    v = 0\n",
    "                x.loc[i] = v\n",
    "    return x\n",
    "\n",
    "\n",
    "data = pd.read_csv(\n",
    "    \"https://video.ittensive.com/machine-learning/sc-tatar2020/rosstat/rosstat.csv\",\n",
    "    na_values=[\"-\", \" - \",\"...\",\"…\",\" -\"]\n",
    ")\n",
    "\n",
    "features = data[\"feature\"]\n",
    "data.drop(\"feature\", inplace=True, axis=1)\n",
    "data.interpolate(method=\"linear\", axis=1, inplace=True)\n",
    "\n",
    "data = data.apply(linear_extrapolation, axis=1)\n",
    "\n",
    "data[\"feature\"] = features\n",
    "data.dropna(inplace=True)\n",
    "features = data[\"feature\"]\n",
    "\n",
    "data = data.T[:len(data.columns) - 1].astype(\"float\")\n",
    "data.drop(\"2019\", inplace=True)\n",
    "\n",
    "y_columns = [\n",
    "    \"ОЖИДАЕМАЯ ПРОДОЛЖИТЕЛЬНОСТЬ ЖИЗНИ ПРИ РОЖДЕНИИ 1.16.1. Все население (число лет)\",\n",
    "    \"ОЖИДАЕМАЯ ПРОДОЛЖИТЕЛЬНОСТЬ ЖИЗНИ ПРИ РОЖДЕНИИ 1.16.2. Мужчины (число лет)\",\n",
    "    \"ОЖИДАЕМАЯ ПРОДОЛЖИТЕЛЬНОСТЬ ЖИЗНИ ПРИ РОЖДЕНИИ 1.16.3. Женщины (число лет)\"\n",
    "]\n",
    "\n",
    "data.columns = features\n",
    "y = data[y_columns[0]]\n",
    "x = data.drop(y_columns, axis=1)\n",
    "\n",
    "scaler = MinMaxScaler()\n",
    "x = pd.DataFrame(scaler.fit_transform(x), columns=x.columns)\n",
    "features = x.columns\n",
    "len(features)"
   ]
  },
  {
   "cell_type": "code",
   "execution_count": 2,
   "id": "f5fd6c2f",
   "metadata": {},
   "outputs": [],
   "source": [
    "feature_indices = dict()"
   ]
  },
  {
   "cell_type": "markdown",
   "id": "f2085d57",
   "metadata": {},
   "source": [
    "## Определение наборов признаков\n",
    "\n",
    "### Корреляция данных"
   ]
  },
  {
   "cell_type": "code",
   "execution_count": 3,
   "id": "f0439e76",
   "metadata": {},
   "outputs": [
    {
     "name": "stdout",
     "output_type": "stream",
     "text": [
      "20.5. ИСПОЛНЕНИЕ БЮДЖЕТА ФОНДА СОЦИАЛЬНОГО СТРАХОВАНИЯ РОССИЙСКОЙ ФЕДЕРАЦИИ 20.5.2. Расходование (миллионов рублей)\n",
      "12.12. ИТОГИ ВЫБОРОЧНЫХ ОБСЛЕДОВАНИЙ 12.12.3. Объем выручки от продажи товаров, продукции, работ, услуг\n",
      "13.2. ОБЪЕМ ОТГРУЖЕННЫХ ТОВАРОВ СОБСТВЕННОГО ПРОИЗВОДСТВА, ВЫПОЛНЕННЫХ РАБОТ И УСЛУГ СОБСТВЕННЫМИ СИЛАМИ ПО ВИДАМ ЭКОНОМИЧЕСКОЙ ДЕЯТЕЛЬНОСТИ 13.2.6. «Обеспечение электрической энергией, газом и паром; кондиционирование воздуха» в соответствии с ОКВЭД2 (в фактически действовавших ценах; миллионов рублей)\n",
      "ДЕНЕЖНЫЕ ДОХОДЫ НАСЕЛЕНИЯ 3.5. МЕДИАННАЯ ЗАРАБОТНАЯ ПЛАТА РАБОТНИКОВ ОРГАНИЗАЦИЙ (по данным выборочного обследования; рублей)\n",
      "19.6. ВНУТРЕННИЕ ТЕКУЩИЕ ЗАТРАТЫ НА НАУЧНЫЕ ИССЛЕДОВАНИЯ И РАЗРАБОТКИ ПО ВИДАМ ЗАТРАТ   19.6.2. Оплата труда  (миллионов рублей)\n"
     ]
    }
   ],
   "source": [
    "def corr_ensemble_score(feature_values, y):\n",
    "    result_score = 0\n",
    "    scores = np.zeros(7)\n",
    "    scores[0] = LinearRegression().fit(x_feature, y).score(x_feature, y)\n",
    "    scores[1] = Ridge(alpha=.1).fit(x_feature, y).score(x_feature, y)\n",
    "    scores[2] = Ridge(alpha=.3).fit(x_feature, y).score(x_feature, y)\n",
    "    scores[3] = Ridge(alpha=.8).fit(x_feature, y).score(x_feature, y)\n",
    "    scores[4] = Lasso(alpha=.1).fit(x_feature, y).score(x_feature, y)\n",
    "    scores[5] = Lasso(alpha=.3).fit(x_feature, y).score(x_feature, y)\n",
    "    scores[6] = Lasso(alpha=.8).fit(x_feature, y).score(x_feature, y)\n",
    "    for score in scores:\n",
    "        if score > 0.96:\n",
    "            result_score += score\n",
    "    return result_score\n",
    "\n",
    "\n",
    "scores = np.zeros(len(features))\n",
    "for feature_index, feature in enumerate(features):\n",
    "    x_feature = np.array(x[feature]).reshape(-1, 1)\n",
    "    feature_score = corr_ensemble_score(x_feature, y)\n",
    "    scores[feature_index] += (feature_score - 0.96)\n",
    "\n",
    "feature_indices[\"corr\"] = np.argsort(scores)[::-1][:5]\n",
    "print(*features[feature_indices[\"corr\"]], sep='\\n')"
   ]
  },
  {
   "cell_type": "markdown",
   "id": "d6c8c66a",
   "metadata": {},
   "source": [
    "### Взаимная информация"
   ]
  },
  {
   "cell_type": "code",
   "execution_count": 4,
   "id": "4509dfaf",
   "metadata": {},
   "outputs": [
    {
     "name": "stdout",
     "output_type": "stream",
     "text": [
      "12.12. ИТОГИ ВЫБОРОЧНЫХ ОБСЛЕДОВАНИЙ 12.12.3. Объем выручки от продажи товаров, продукции, работ, услуг\n",
      "18.7. ИСПОЛЬЗОВАНИЕ СЕТИ ИНТЕРНЕТ НАСЕЛЕНИЕМ 18.7.2. Население, использовавшее сеть Интернет каждый день или почти каждый день2) (по данным выборочного обследования населения по вопросам использования ИКТ; в процентах от общей численности населения соответствующего субъекта Российской Федерации)\n",
      "13.2. ОБЪЕМ ОТГРУЖЕННЫХ ТОВАРОВ СОБСТВЕННОГО ПРОИЗВОДСТВА, ВЫПОЛНЕННЫХ РАБОТ И УСЛУГ СОБСТВЕННЫМИ СИЛАМИ ПО ВИДАМ ЭКОНОМИЧЕСКОЙ ДЕЯТЕЛЬНОСТИ 13.2.6. «Обеспечение электрической энергией, газом и паром; кондиционирование воздуха» в соответствии с ОКВЭД2 (в фактически действовавших ценах; миллионов рублей)\n",
      "18.7. ИСПОЛЬЗОВАНИЕ СЕТИ ИНТЕРНЕТ НАСЕЛЕНИЕМ 18.7.1.  Население, использовавшее сеть Интернет2) (по данным выборочного обследования населения по вопросам использования ИКТ; в процентах от общей численности населения соответствующего субъекта Российской Федерации)\n",
      "12.8. ДЕБИТОРСКАЯ ЗАДОЛЖЕННОСТЬ ОРГАНИЗАЦИЙ 12.8.1.  Всего\n"
     ]
    }
   ],
   "source": [
    "scores = mutual_info_regression(x, y)\n",
    "scores /= np.max(scores)\n",
    "scores -= .85\n",
    "feature_indices[\"mi\"] = np.argsort(scores)[::-1][:5]\n",
    "print(*features[feature_indices[\"mi\"]], sep='\\n')"
   ]
  },
  {
   "cell_type": "markdown",
   "id": "b63a33cd",
   "metadata": {},
   "source": [
    "### Важность признаков"
   ]
  },
  {
   "cell_type": "code",
   "execution_count": 5,
   "id": "f5637bda",
   "metadata": {},
   "outputs": [
    {
     "name": "stdout",
     "output_type": "stream",
     "text": [
      "ЖИЛИЩНЫЕ УСЛОВИЯ НАСЕЛЕНИЯ 3.26. УДЕЛЬНЫЙ ВЕС АВАРИЙНОГО ЖИЛИЩНОГО ФОНДА В ОБЩЕЙ ПЛОЩАДИ ВСЕГО ЖИЛИЩНОГО ФОНДА (в процентах)\n",
      "ЗАБОЛЕВАЕМОСТЬ на 1000 человек населения ПО ОСНОВНЫМ КЛАССАМ БОЛЕЗНЕЙ;2) 5.9.9. Болезни органов дыхания (зарегистрировано заболеваний у пациентов с диагнозом, установленным впервые в жизни)\n",
      "4.5. ЧИСЛЕННОСТЬ УЧИТЕЛЕЙ ОРГАНИЗАЦИЙ, ОСУЩЕСТВЛЯЮЩИХ ОБРАЗОВАТЕЛЬНУЮ ДЕЯТЕЛЬНОСТЬ ПО ОБРАЗОВАТЕЛЬНЫМ ПРОГРАММАМ НАЧАЛЬНОГО, ОСНОВНОГО И СРЕДНЕГО ОБЩЕГО ОБРАЗОВАНИЯ; 2) (на 20 сентября; тысяч человек)\n",
      "СТРОИТЕЛЬНАЯ ДЕЯТЕЛЬНОСТЬ 15.1. ЧИСЛО ДЕЙСТВУЮЩИХ СТРОИТЕЛЬНЫХ ОРГАНИЗАЦИЙ  (на конец года)\n",
      "18.1. ИСПОЛЬЗОВАНИЕ ИНФОРМАЦИОННЫХ И КОММУНИКАЦИОННЫХ ТЕХНОЛОГИЙ В ОРГАНИЗАЦИЯХ  18.1.4. Организации, использовавшие глобальные информационные сети (в процентах от общего числа обследованных организаций  соответствующего субъекта Российской федерации)\n",
      "CPU times: total: 12.7 s\n",
      "Wall time: 12.6 s\n"
     ]
    }
   ],
   "source": [
    "%%time\n",
    "scores = np.zeros(len(features))\n",
    "for i in range(10, 100):\n",
    "    scores += RandomForestRegressor(n_estimators=i, random_state=i).fit(x, y).feature_importances_\n",
    "    scores += ExtraTreesRegressor(n_estimators=i, random_state=i).fit(x, y).feature_importances_\n",
    "    \n",
    "feature_indices[\"importance\"] = np.argsort(scores)[::-1][:5]\n",
    "print(*features[feature_indices[\"importance\"]], sep='\\n')"
   ]
  },
  {
   "cell_type": "markdown",
   "id": "b43a0af8",
   "metadata": {},
   "source": [
    "### Метод главных компонент"
   ]
  },
  {
   "cell_type": "code",
   "execution_count": 6,
   "id": "dec2ccf6",
   "metadata": {},
   "outputs": [
    {
     "name": "stdout",
     "output_type": "stream",
     "text": [
      "4.11. ЧИСЛО ФИЛИАЛОВ ОБРАЗОВАТЕЛЬНЫХ ОРГАНИЗАЦИЙ, ОСУЩЕСТВЛЯЮЩИХ ОБРАЗОВАТЕЛЬНУЮ ДЕЯТЕЛЬНОСТЬ ПО ОБРАЗОВАТЕЛЬНЫМ ПРОГРАММАМ СРЕДНЕГО ПРОФЕССИОНАЛЬНОГО ОБРАЗОВАНИЯ (на начало учебного года)\n",
      "ДЕНЕЖНЫЕ ДОХОДЫ НАСЕЛЕНИЯ 3.10. СТРУКТУРА СОЦИАЛЬНЫХ ВЫПЛАТ;2);3) (в процентах)\n",
      "ДЕНЕЖНЫЕ ДОХОДЫ НАСЕЛЕНИЯ 3.16. СТРУКТУРА ПОТРЕБИТЕЛЬСКИХ РАСХОДОВ ДОМАШНИХ ХОЗЯЙСТВ (по итогам выборочного обследования бюджетов домашних хозяйств; в процентах)\n",
      "ДЕНЕЖНЫЕ ДОХОДЫ НАСЕЛЕНИЯ 3.15. СТРУКТУРА ИСПОЛЬЗОВАНИЯ ДЕНЕЖНЫХ ДОХОДОВ НАСЕЛЕНИЯ ;2) (в процентах от общего объема денежных доходов)\n",
      "ДЕНЕЖНЫЕ ДОХОДЫ НАСЕЛЕНИЯ 3.9. СТРУКТУРА ДЕНЕЖНЫХ ДОХОДОВ НАСЕЛЕНИЯ;2) (в процентах от общего объема денежных доходов)\n"
     ]
    }
   ],
   "source": [
    "scores = np.zeros(len(features))\n",
    "for n_components in range(2, 20):\n",
    "    scores += np.apply_along_axis(\n",
    "        lambda cortege: np.abs(cortege).sum(),\n",
    "        0,\n",
    "        PCA(n_components=n_components, random_state=n_components).fit(x).components_\n",
    "    )\n",
    "\n",
    "feature_indices[\"pca\"] = np.argsort(scores)[::-1][:5]\n",
    "print(*features[feature_indices[\"pca\"]], sep='\\n')"
   ]
  },
  {
   "cell_type": "markdown",
   "id": "5e1c3e1f",
   "metadata": {},
   "source": [
    "### Анализ независимых компонент"
   ]
  },
  {
   "cell_type": "code",
   "execution_count": 7,
   "id": "db4ceb04",
   "metadata": {},
   "outputs": [
    {
     "name": "stdout",
     "output_type": "stream",
     "text": [
      "ОБЩАЯ ХАРАКТЕРИСТИКА ПРЕДПРИЯТИЙ И ОРГАНИЗАЦИЙ 12.1. ЧИСЛО ПРЕДПРИЯТИЙ И ОРГАНИЗАЦИЙ  (на конец года)\n",
      "9.3. ИНДЕКС ФИЗИЧЕСКОГО ОБЪЕМА ВАЛОВОГО РЕГИОНАЛЬНОГО ПРОДУКТА (в постоянных ценах; в процентах к предыдущему году)\n",
      "4.25. ЧИСЛЕННОСТЬ СТУДЕНТОВ, ОБУЧАЮЩИХСЯ ПО ПРОГРАММАМ БАКАЛАВРИАТА, СПЕЦИАЛИТЕТА, МАГИСТРАТУРЫ на 10 000 человек населения (на начало учебного года; человек)\n",
      "НАГРУЗКА НА РАБОТНИКОВ СФЕРЫ ЗДРАВООХРАНЕНИЯ 5.5.2. Численность населения на одного работника  среднего медицинского персонала (на конец года; человек)\n",
      "21.10. ИНДЕКСЫ ЦЕН ПРОИЗВОДИТЕЛЕЙ ПРОМЫШЛЕННЫХ ТОВАРОВ ПО ВИДАМ ЭКОНОМИЧЕСКОЙ ДЕЯТЕЛЬНОСТИ 21.10.5. Обрабатывающие производства в соответствии с ОКВЭД в 2000-2016 гг.\n"
     ]
    }
   ],
   "source": [
    "scores = np.zeros(len(features))\n",
    "for n_components in range(2, 20):\n",
    "    scores += np.apply_along_axis(\n",
    "        lambda cortege: np.abs(cortege).sum(),\n",
    "        0,\n",
    "        FastICA(n_components=n_components, random_state=n_components).fit(x).components_\n",
    "    )\n",
    "\n",
    "feature_indices[\"ica\"] = np.argsort(scores)[::-1][:5]\n",
    "print(*features[feature_indices[\"ica\"]], sep='\\n')"
   ]
  },
  {
   "cell_type": "markdown",
   "id": "f1929c1c",
   "metadata": {},
   "source": [
    "### Случайный набор признаков\n",
    "Выберем по 50 признаков случайным образом.\n",
    "\n",
    "Обучим несколько моделей на случайном поднаборе признаков, отранжируем признаки по значимости, возьмем 10 наиболее значащих признаков, повторим такой выбор несколько раз, затем выберем топ5 из нескольких итераций"
   ]
  },
  {
   "cell_type": "code",
   "execution_count": 8,
   "id": "6c8c57c7",
   "metadata": {},
   "outputs": [
    {
     "name": "stdout",
     "output_type": "stream",
     "text": [
      "17.4. ПЕРЕВОЗКИ ГРУЗОВ АВТОМОБИЛЬНЫМ  ТРАНСПОРТОМ ОРГАНИЗАЦИЙ ВСЕХ ВИДОВ ДЕЯТЕЛЬНОСТИ (миллионов тонн)\n",
      "17.5.  ГРУЗООБОРОТ АВТОМОБИЛЬНОГО ТРАНСПОРТА ОРГАНИЗАЦИЙ ВСЕХ ВИДОВ ДЕЯТЕЛЬНОСТИ (миллионов тонно-километров)\n",
      "17.3. ПЛОТНОСТЬ ЖЕЛЕЗНОДОРОЖНЫХ ПУТЕЙ ОБЩЕГО ПОЛЬЗОВАНИЯ  (на конец года; км путей на 10000 км2 территории)\n",
      "17.6. ПЕРЕВОЗКИ ПАССАЖИРОВ АВТОБУСАМИ ОБЩЕГО ПОЛЬЗОВАНИЯ (миллионов человек)\n",
      "17.7. ПАССАЖИРООБОРОТ АВТОБУСОВ ОБЩЕГО ПОЛЬЗОВАНИЯ  (миллионов пассажиро-километров)\n",
      "CPU times: total: 36.5 s\n",
      "Wall time: 36.5 s\n"
     ]
    }
   ],
   "source": [
    "%%time\n",
    "subset_size = 50\n",
    "iterations = 5000\n",
    "index_weights = np.array([weight for weight in range(10, 0, -1)])\n",
    "model_weights = [1, 1, 1, 1, 1, 1]\n",
    "\n",
    "\n",
    "def make_ensemble(x, y):\n",
    "    return {\n",
    "        \"ridge1\": np.argsort(np.abs(Ridge(alpha=.1).fit(x, y).coef_))[::-1],\n",
    "        \"ridge3\": np.argsort(np.abs(Ridge(alpha=.3).fit(x, y).coef_))[::-1],\n",
    "        \"ridge8\": np.argsort(np.abs(Ridge(alpha=.8).fit(x, y).coef_))[::-1],\n",
    "        \"lasso1\": np.argsort(np.abs(Lasso(alpha=.1).fit(x, y).coef_))[::-1],\n",
    "        \"lasso3\": np.argsort(np.abs(Lasso(alpha=.3).fit(x, y).coef_))[::-1],\n",
    "        \"lasso8\": np.argsort(np.abs(Lasso(alpha=.8).fit(x, y).coef_))[::-1],\n",
    "    }\n",
    "\n",
    "\n",
    "def indices_of_random_features(number_of_features, max_index=len(features)):\n",
    "    return np.random.randint(max_index, size=number_of_features)\n",
    "\n",
    "\n",
    "scores = np.zeros(len(features))\n",
    "for iteration in range(iterations):\n",
    "    ensemble = make_ensemble(x[features[indices_of_random_features(subset_size)]], y)\n",
    "    model_index = 0\n",
    "    for _, model_coefs in ensemble.items():\n",
    "        siginificant_feature_indices = np.argsort(np.abs(model_coefs))[::-1][:10]\n",
    "        scores[siginificant_feature_indices] += (index_weights * model_weights[model_index])\n",
    "        model_index += 1\n",
    "        \n",
    "feature_indices[\"random\"] = np.argsort(scores)[::-1][:5]\n",
    "print(*features[feature_indices[\"random\"]], sep='\\n')"
   ]
  },
  {
   "cell_type": "markdown",
   "id": "3696bd40",
   "metadata": {},
   "source": [
    "## Ансамбль\n",
    "\n",
    "Сдвинем факторы на год назад: чтобы предсказывать по значениям текущего года - следующий"
   ]
  },
  {
   "cell_type": "code",
   "execution_count": 9,
   "id": "99ebb279",
   "metadata": {},
   "outputs": [],
   "source": [
    "x_ = x[:-1]\n",
    "y_ = np.array(y[1:])"
   ]
  },
  {
   "cell_type": "markdown",
   "id": "d162658b",
   "metadata": {},
   "source": [
    "### Для каждого набора данных строится:\n",
    "- 100 моделей RandomForestRegressor\n",
    "- 100 моделей ExtraTreesRegressor\n",
    "- 100 моделей XGBRegressor\n",
    "- 100 моделей CatBoostRegressor\n",
    "- 300 моделей Lasso\n",
    "- 300 моделей Ridge"
   ]
  },
  {
   "cell_type": "code",
   "execution_count": 10,
   "id": "0fa55d7e",
   "metadata": {},
   "outputs": [
    {
     "name": "stdout",
     "output_type": "stream",
     "text": [
      "Количество моделей в ансамбле: 6000\n"
     ]
    }
   ],
   "source": [
    "MODELS_IN_EACH_TYPE = 100\n",
    "ensemble = dict()\n",
    "for set_name, set_indices in feature_indices.items():\n",
    "    ensemble[set_name] = list()\n",
    "    current_x = x_.iloc[:, set_indices]\n",
    "    for i in range(MODELS_IN_EACH_TYPE):\n",
    "        ensemble[set_name].append(RandomForestRegressor(n_estimators=30 + i, random_state=i).fit(current_x, y_))\n",
    "        ensemble[set_name].append(ExtraTreesRegressor(n_estimators=30 + i, random_state=i).fit(current_x, y_))\n",
    "        ensemble[set_name].append(XGBRegressor(max_depth=16, n_estimators=30+i, random_state=i).fit(current_x, y_))\n",
    "        ensemble[set_name].append(CatBoostRegressor(iterations=20, depth=16, random_state=i, verbose=False).fit(current_x, y_))\n",
    "        ensemble[set_name].append(Lasso(alpha=.1, random_state=i).fit(current_x, y_))\n",
    "        ensemble[set_name].append(Lasso(alpha=.3, random_state=i).fit(current_x, y_))\n",
    "        ensemble[set_name].append(Lasso(alpha=.8, random_state=i).fit(current_x, y_))\n",
    "        ensemble[set_name].append(Ridge(alpha=.1, random_state=i).fit(current_x, y_))\n",
    "        ensemble[set_name].append(Ridge(alpha=.3, random_state=i).fit(current_x, y_))\n",
    "        ensemble[set_name].append(Ridge(alpha=.8, random_state=i).fit(current_x, y_))        \n",
    "\n",
    "print(\"Количество моделей в ансамбле:\", len(ensemble) * MODELS_IN_EACH_TYPE * 10)"
   ]
  },
  {
   "cell_type": "markdown",
   "id": "e2d43d40",
   "metadata": {},
   "source": [
    "### Формирование предсказания на 2019 год"
   ]
  },
  {
   "cell_type": "code",
   "execution_count": 11,
   "id": "5b8731f0",
   "metadata": {},
   "outputs": [
    {
     "name": "stdout",
     "output_type": "stream",
     "text": [
      "Прогноз ожидаемой продолжительности жизни в 2019 год составляет 73.0 лет\n"
     ]
    }
   ],
   "source": [
    "prediction = 0\n",
    "x_2019 = x[-1:]\n",
    "for set_name, set_indices in feature_indices.items():\n",
    "    current_x = x_2019.iloc[:, set_indices]\n",
    "    for model_index in range(len(ensemble[set_name])):\n",
    "        prediction += ensemble[set_name][model_index].predict(current_x)\n",
    "\n",
    "prediction /= (len(ensemble) * MODELS_IN_EACH_TYPE * 10)\n",
    "\n",
    "print(\n",
    "    \"Прогноз ожидаемой продолжительности жизни в 2019 год составляет\",\n",
    "    round(prediction[0], 1),\n",
    "    \"лет\"\n",
    ")"
   ]
  },
  {
   "cell_type": "markdown",
   "id": "1c9ad2b9",
   "metadata": {},
   "source": [
    "#### *Дополнительно: найдите значения факторов Росстата за 2019 год и предскажите продолжительность жизни на 2020 год."
   ]
  },
  {
   "cell_type": "code",
   "execution_count": 12,
   "id": "34903292",
   "metadata": {},
   "outputs": [],
   "source": [
    "data_2020 = pd.read_csv(\"rosstat_2019.csv\", usecols=data.columns)\n",
    "y_2020 = data_2020[y_columns[0]]\n",
    "x_2020 = data_2020.drop(y_columns, axis=1)\n",
    "\n",
    "scaler_2020 = MinMaxScaler()\n",
    "x_2020 = pd.DataFrame(scaler.fit_transform(x_2020), columns=x_2020.columns)\n",
    "features = x_2020.columns\n",
    "\n",
    "x_ = x_2020[:-1]\n",
    "y_ = np.array(y_2020[1:])"
   ]
  },
  {
   "cell_type": "code",
   "execution_count": 13,
   "id": "4f6034b5",
   "metadata": {},
   "outputs": [
    {
     "name": "stdout",
     "output_type": "stream",
     "text": [
      "Количество моделей в ансамбле: 6000\n"
     ]
    }
   ],
   "source": [
    "ensemble_2020 = dict()\n",
    "for set_name, set_indices in feature_indices.items():\n",
    "    ensemble_2020[set_name] = list()\n",
    "    current_x = x_.iloc[:, set_indices]\n",
    "    for i in range(MODELS_IN_EACH_TYPE):\n",
    "        ensemble_2020[set_name].append(RandomForestRegressor(n_estimators=30 + i, random_state=i).fit(current_x, y_))\n",
    "        ensemble_2020[set_name].append(ExtraTreesRegressor(n_estimators=30 + i, random_state=i).fit(current_x, y_))\n",
    "        ensemble_2020[set_name].append(XGBRegressor(max_depth=16, n_estimators=30+i, random_state=i).fit(current_x, y_))\n",
    "        ensemble_2020[set_name].append(CatBoostRegressor(iterations=20, depth=16, random_state=i, verbose=False).fit(current_x, y_))\n",
    "        ensemble_2020[set_name].append(Lasso(alpha=.1, random_state=i).fit(current_x, y_))\n",
    "        ensemble_2020[set_name].append(Lasso(alpha=.3, random_state=i).fit(current_x, y_))\n",
    "        ensemble_2020[set_name].append(Lasso(alpha=.8, random_state=i).fit(current_x, y_))\n",
    "        ensemble_2020[set_name].append(Ridge(alpha=.1, random_state=i).fit(current_x, y_))\n",
    "        ensemble_2020[set_name].append(Ridge(alpha=.3, random_state=i).fit(current_x, y_))\n",
    "        ensemble_2020[set_name].append(Ridge(alpha=.8, random_state=i).fit(current_x, y_))        \n",
    "\n",
    "print(\"Количество моделей в ансамбле:\", len(ensemble_2020) * MODELS_IN_EACH_TYPE * 10)"
   ]
  },
  {
   "cell_type": "code",
   "execution_count": 14,
   "id": "ca690463",
   "metadata": {},
   "outputs": [
    {
     "name": "stdout",
     "output_type": "stream",
     "text": [
      "Прогноз ожидаемой продолжительности жизни в 2020 год составляет 73.7 лет\n"
     ]
    }
   ],
   "source": [
    "prediction_2020 = 0\n",
    "x_2020 = x_2019[-1:]\n",
    "for set_name, set_indices in feature_indices.items():\n",
    "    current_x = x_2020.iloc[:, set_indices]\n",
    "    for model_index in range(len(ensemble[set_name])):\n",
    "        prediction_2020 += ensemble_2020[set_name][model_index].predict(current_x)\n",
    "\n",
    "prediction_2020 /= (len(ensemble_2020) * MODELS_IN_EACH_TYPE * 10)\n",
    "\n",
    "print(\n",
    "    \"Прогноз ожидаемой продолжительности жизни в 2020 год составляет\",\n",
    "    round(prediction_2020[0], 1),\n",
    "    \"лет\"\n",
    ")"
   ]
  }
 ],
 "metadata": {
  "kernelspec": {
   "display_name": "Python 3 (ipykernel)",
   "language": "python",
   "name": "python3"
  },
  "language_info": {
   "codemirror_mode": {
    "name": "ipython",
    "version": 3
   },
   "file_extension": ".py",
   "mimetype": "text/x-python",
   "name": "python",
   "nbconvert_exporter": "python",
   "pygments_lexer": "ipython3",
   "version": "3.10.4"
  }
 },
 "nbformat": 4,
 "nbformat_minor": 5
}
